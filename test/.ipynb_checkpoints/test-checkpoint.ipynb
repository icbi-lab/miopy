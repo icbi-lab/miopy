{
 "cells": [
  {
   "cell_type": "markdown",
   "metadata": {},
   "source": [
    "# MIOPY: Use cases\n",
    "\n",
    "In this tutorial, we demonstrate how MIOPY can be used to study the microRNA/mRNA interaction from expression data.\n",
    "\n",
    "For this tutorial, we use the TCGA-LUAD dataset.\n",
    "\n",
    "## Use Case S1: MicroRNAs targeting immune modulators including PD-L1\n",
    "\n",
    "We were intereseted in finding out which are the most important microRNAs regulating immune-checkpoints in tumor cells.\n",
    "\n",
    "#### Loading the example dataset"
   ]
  },
  {
   "cell_type": "code",
   "execution_count": 1,
   "metadata": {},
   "outputs": [],
   "source": [
    "import miopy as mp\n",
    "import pandas as pd\n",
    "import matplotlib.pyplot as plt\n",
    "import warnings\n",
    "warnings.filterwarnings('ignore')"
   ]
  },
  {
   "cell_type": "code",
   "execution_count": 2,
   "metadata": {},
   "outputs": [],
   "source": [
    "dfMir, dfRna, metadata = mp.load_dataset()"
   ]
  },
  {
   "cell_type": "markdown",
   "metadata": {},
   "source": [
    "**We filtered to keep only primary tumor samples**.\n"
   ]
  },
  {
   "cell_type": "code",
   "execution_count": 3,
   "metadata": {},
   "outputs": [],
   "source": [
    "dfExpr = mp.concat_matrix(dfMir,dfRna)\n",
    "dfExpr = dfExpr.loc[metadata.query('sample_type == \"PrimaryTumor\"').index,:]"
   ]
  },
  {
   "cell_type": "markdown",
   "metadata": {},
   "source": [
    "#### Run Correlation\n",
    "\n",
    "In the use case from the publication, we used the Immune Checkpoint (ICBI) geneset, but in this case we reduce the number of genes to reduce the computational times. We can run all the methods with mp.all_methods, every methods can be running indivdually."
   ]
  },
  {
   "cell_type": "code",
   "execution_count": 4,
   "metadata": {},
   "outputs": [
    {
     "data": {
      "text/plain": [
       "['PDCD1']"
      ]
     },
     "execution_count": 4,
     "metadata": {},
     "output_type": "execute_result"
    }
   ],
   "source": [
    "lGene = open(\"genesets/geneset_Immune checkpoints [ICBI].txt\",\"r\").read().split()\n",
    "lGene[0:1]"
   ]
  },
  {
   "cell_type": "code",
   "execution_count": 5,
   "metadata": {},
   "outputs": [
    {
     "name": "stdout",
     "output_type": "stream",
     "text": [
      "Obtain Concat Gene and MIR\n",
      "Loading dataset...\n",
      "\n",
      "Classifier Rho\n",
      "\n",
      "Classifier R\n",
      "\n",
      "Classifier Tau\n",
      "\n",
      "Classifier RDC\n",
      "\n",
      "Classifier Hoeffding\n",
      "\n",
      "Classifier Ridge\n",
      "\n",
      "Classifier Lasso\n",
      "\n",
      "Classifier ElasticNet\n",
      "\n",
      "Classifier \n"
     ]
    },
    {
     "ename": "AttributeError",
     "evalue": "'tuple' object has no attribute 'dropna'",
     "output_type": "error",
     "traceback": [
      "\u001b[0;31m---------------------------------------------------------------------------\u001b[0m",
      "\u001b[0;31mAttributeError\u001b[0m                            Traceback (most recent call last)",
      "\u001b[0;32m<ipython-input-5-60a82c09b677>\u001b[0m in \u001b[0;36m<module>\u001b[0;34m\u001b[0m\n\u001b[0;32m----> 1\u001b[0;31m \u001b[0mres\u001b[0m\u001b[0;34m,\u001b[0m \u001b[0mpearson\u001b[0m \u001b[0;34m=\u001b[0m \u001b[0mmp\u001b[0m\u001b[0;34m.\u001b[0m\u001b[0mall_methods\u001b[0m\u001b[0;34m(\u001b[0m\u001b[0mdfExpr\u001b[0m\u001b[0;34m,\u001b[0m \u001b[0mlMirUser\u001b[0m \u001b[0;34m=\u001b[0m \u001b[0;32mNone\u001b[0m\u001b[0;34m,\u001b[0m \u001b[0mlGeneUser\u001b[0m \u001b[0;34m=\u001b[0m \u001b[0mlGene\u001b[0m\u001b[0;34m[\u001b[0m\u001b[0;36m0\u001b[0m\u001b[0;34m:\u001b[0m\u001b[0;36m5\u001b[0m\u001b[0;34m]\u001b[0m\u001b[0;34m+\u001b[0m\u001b[0;34m[\u001b[0m\u001b[0;34m\"CD274\"\u001b[0m\u001b[0;34m]\u001b[0m\u001b[0;34m,\u001b[0m \u001b[0mn_core\u001b[0m \u001b[0;34m=\u001b[0m \u001b[0;36m4\u001b[0m\u001b[0;34m,\u001b[0m \u001b[0mbackground\u001b[0m \u001b[0;34m=\u001b[0m \u001b[0;32mTrue\u001b[0m\u001b[0;34m)\u001b[0m\u001b[0;34m\u001b[0m\u001b[0;34m\u001b[0m\u001b[0m\n\u001b[0m",
      "\u001b[0;32m~/.local/lib/python3.8/site-packages/miopy-1.0.5-py3.8.egg/miopy/correlation.py\u001b[0m in \u001b[0;36mall_methods\u001b[0;34m(exprDF, lMirUser, lGeneUser, n_core, hr, k, background)\u001b[0m\n\u001b[1;32m    824\u001b[0m     \u001b[0;32mif\u001b[0m \u001b[0mbackground\u001b[0m\u001b[0;34m:\u001b[0m\u001b[0;34m\u001b[0m\u001b[0;34m\u001b[0m\u001b[0m\n\u001b[1;32m    825\u001b[0m         \u001b[0mprint\u001b[0m\u001b[0;34m(\u001b[0m\u001b[0;34m\"\\nClassifier \"\u001b[0m\u001b[0;34m)\u001b[0m\u001b[0;34m\u001b[0m\u001b[0;34m\u001b[0m\u001b[0m\n\u001b[0;32m--> 826\u001b[0;31m         \u001b[0mtable\u001b[0m \u001b[0;34m=\u001b[0m \u001b[0mbackground_estimation\u001b[0m\u001b[0;34m(\u001b[0m\u001b[0mexprDF\u001b[0m\u001b[0;34m,\u001b[0m \u001b[0mtable\u001b[0m\u001b[0;34m,\u001b[0m \u001b[0mn_gene\u001b[0m\u001b[0;34m=\u001b[0m\u001b[0;36m3000\u001b[0m\u001b[0;34m,\u001b[0m \u001b[0mn_core\u001b[0m\u001b[0;34m=\u001b[0m\u001b[0mn_core\u001b[0m\u001b[0;34m,\u001b[0m \u001b[0mpval\u001b[0m\u001b[0;34m=\u001b[0m\u001b[0;32mFalse\u001b[0m\u001b[0;34m)\u001b[0m\u001b[0;34m\u001b[0m\u001b[0;34m\u001b[0m\u001b[0m\n\u001b[0m\u001b[1;32m    827\u001b[0m \u001b[0;34m\u001b[0m\u001b[0m\n\u001b[1;32m    828\u001b[0m     \u001b[0;32mreturn\u001b[0m \u001b[0mtable\u001b[0m\u001b[0;34m,\u001b[0m \u001b[0mlTuple\u001b[0m\u001b[0;34m[\u001b[0m\u001b[0;36m1\u001b[0m\u001b[0;34m]\u001b[0m\u001b[0;34m[\u001b[0m\u001b[0;36m0\u001b[0m\u001b[0;34m]\u001b[0m\u001b[0;34m\u001b[0m\u001b[0;34m\u001b[0m\u001b[0m\n",
      "\u001b[0;32m~/.local/lib/python3.8/site-packages/miopy-1.0.5-py3.8.egg/miopy/correlation.py\u001b[0m in \u001b[0;36mbackground_estimation\u001b[0;34m(exprDF, table, n_gene, method, n_core, pval)\u001b[0m\n\u001b[1;32m    920\u001b[0m                               (z_score_value(row.R, res, row.Mir)), axis = 1)\n\u001b[1;32m    921\u001b[0m \u001b[0;34m\u001b[0m\u001b[0m\n\u001b[0;32m--> 922\u001b[0;31m     \u001b[0mres_z_p\u001b[0m \u001b[0;34m=\u001b[0m \u001b[0mres_z_p\u001b[0m\u001b[0;34m.\u001b[0m\u001b[0mapply\u001b[0m\u001b[0;34m(\u001b[0m\u001b[0;32mlambda\u001b[0m \u001b[0mcol\u001b[0m\u001b[0;34m:\u001b[0m \u001b[0mcol\u001b[0m\u001b[0;34m.\u001b[0m\u001b[0mdropna\u001b[0m\u001b[0;34m(\u001b[0m\u001b[0;34m)\u001b[0m\u001b[0;34m)\u001b[0m\u001b[0;34m\u001b[0m\u001b[0;34m\u001b[0m\u001b[0m\n\u001b[0m\u001b[1;32m    923\u001b[0m     \u001b[0mtable\u001b[0m\u001b[0;34m[\u001b[0m\u001b[0;34m\"Z-Score\"\u001b[0m\u001b[0;34m]\u001b[0m \u001b[0;34m=\u001b[0m \u001b[0mres_z_p\u001b[0m\u001b[0;34m.\u001b[0m\u001b[0mapply\u001b[0m\u001b[0;34m(\u001b[0m\u001b[0;32mlambda\u001b[0m \u001b[0mx\u001b[0m\u001b[0;34m:\u001b[0m \u001b[0mx\u001b[0m\u001b[0;34m[\u001b[0m\u001b[0;36m0\u001b[0m\u001b[0;34m]\u001b[0m\u001b[0;34m)\u001b[0m\u001b[0;34m\u001b[0m\u001b[0;34m\u001b[0m\u001b[0m\n\u001b[1;32m    924\u001b[0m     \u001b[0mtable\u001b[0m\u001b[0;34m[\u001b[0m\u001b[0;34m\"P-Value\"\u001b[0m\u001b[0;34m]\u001b[0m \u001b[0;34m=\u001b[0m \u001b[0mres_z_p\u001b[0m\u001b[0;34m.\u001b[0m\u001b[0mapply\u001b[0m\u001b[0;34m(\u001b[0m\u001b[0;32mlambda\u001b[0m \u001b[0mx\u001b[0m\u001b[0;34m:\u001b[0m \u001b[0mx\u001b[0m\u001b[0;34m[\u001b[0m\u001b[0;36m1\u001b[0m\u001b[0;34m]\u001b[0m\u001b[0;34m)\u001b[0m\u001b[0;34m\u001b[0m\u001b[0;34m\u001b[0m\u001b[0m\n",
      "\u001b[0;32m~/.local/lib/python3.8/site-packages/pandas/core/series.py\u001b[0m in \u001b[0;36mapply\u001b[0;34m(self, func, convert_dtype, args, **kwds)\u001b[0m\n\u001b[1;32m   4198\u001b[0m             \u001b[0;32melse\u001b[0m\u001b[0;34m:\u001b[0m\u001b[0;34m\u001b[0m\u001b[0;34m\u001b[0m\u001b[0m\n\u001b[1;32m   4199\u001b[0m                 \u001b[0mvalues\u001b[0m \u001b[0;34m=\u001b[0m \u001b[0mself\u001b[0m\u001b[0;34m.\u001b[0m\u001b[0mastype\u001b[0m\u001b[0;34m(\u001b[0m\u001b[0mobject\u001b[0m\u001b[0;34m)\u001b[0m\u001b[0;34m.\u001b[0m\u001b[0m_values\u001b[0m\u001b[0;34m\u001b[0m\u001b[0;34m\u001b[0m\u001b[0m\n\u001b[0;32m-> 4200\u001b[0;31m                 \u001b[0mmapped\u001b[0m \u001b[0;34m=\u001b[0m \u001b[0mlib\u001b[0m\u001b[0;34m.\u001b[0m\u001b[0mmap_infer\u001b[0m\u001b[0;34m(\u001b[0m\u001b[0mvalues\u001b[0m\u001b[0;34m,\u001b[0m \u001b[0mf\u001b[0m\u001b[0;34m,\u001b[0m \u001b[0mconvert\u001b[0m\u001b[0;34m=\u001b[0m\u001b[0mconvert_dtype\u001b[0m\u001b[0;34m)\u001b[0m\u001b[0;34m\u001b[0m\u001b[0;34m\u001b[0m\u001b[0m\n\u001b[0m\u001b[1;32m   4201\u001b[0m \u001b[0;34m\u001b[0m\u001b[0m\n\u001b[1;32m   4202\u001b[0m         \u001b[0;32mif\u001b[0m \u001b[0mlen\u001b[0m\u001b[0;34m(\u001b[0m\u001b[0mmapped\u001b[0m\u001b[0;34m)\u001b[0m \u001b[0;32mand\u001b[0m \u001b[0misinstance\u001b[0m\u001b[0;34m(\u001b[0m\u001b[0mmapped\u001b[0m\u001b[0;34m[\u001b[0m\u001b[0;36m0\u001b[0m\u001b[0;34m]\u001b[0m\u001b[0;34m,\u001b[0m \u001b[0mSeries\u001b[0m\u001b[0;34m)\u001b[0m\u001b[0;34m:\u001b[0m\u001b[0;34m\u001b[0m\u001b[0;34m\u001b[0m\u001b[0m\n",
      "\u001b[0;32mpandas/_libs/lib.pyx\u001b[0m in \u001b[0;36mpandas._libs.lib.map_infer\u001b[0;34m()\u001b[0m\n",
      "\u001b[0;32m~/.local/lib/python3.8/site-packages/miopy-1.0.5-py3.8.egg/miopy/correlation.py\u001b[0m in \u001b[0;36m<lambda>\u001b[0;34m(col)\u001b[0m\n\u001b[1;32m    920\u001b[0m                               (z_score_value(row.R, res, row.Mir)), axis = 1)\n\u001b[1;32m    921\u001b[0m \u001b[0;34m\u001b[0m\u001b[0m\n\u001b[0;32m--> 922\u001b[0;31m     \u001b[0mres_z_p\u001b[0m \u001b[0;34m=\u001b[0m \u001b[0mres_z_p\u001b[0m\u001b[0;34m.\u001b[0m\u001b[0mapply\u001b[0m\u001b[0;34m(\u001b[0m\u001b[0;32mlambda\u001b[0m \u001b[0mcol\u001b[0m\u001b[0;34m:\u001b[0m \u001b[0mcol\u001b[0m\u001b[0;34m.\u001b[0m\u001b[0mdropna\u001b[0m\u001b[0;34m(\u001b[0m\u001b[0;34m)\u001b[0m\u001b[0;34m)\u001b[0m\u001b[0;34m\u001b[0m\u001b[0;34m\u001b[0m\u001b[0m\n\u001b[0m\u001b[1;32m    923\u001b[0m     \u001b[0mtable\u001b[0m\u001b[0;34m[\u001b[0m\u001b[0;34m\"Z-Score\"\u001b[0m\u001b[0;34m]\u001b[0m \u001b[0;34m=\u001b[0m \u001b[0mres_z_p\u001b[0m\u001b[0;34m.\u001b[0m\u001b[0mapply\u001b[0m\u001b[0;34m(\u001b[0m\u001b[0;32mlambda\u001b[0m \u001b[0mx\u001b[0m\u001b[0;34m:\u001b[0m \u001b[0mx\u001b[0m\u001b[0;34m[\u001b[0m\u001b[0;36m0\u001b[0m\u001b[0;34m]\u001b[0m\u001b[0;34m)\u001b[0m\u001b[0;34m\u001b[0m\u001b[0;34m\u001b[0m\u001b[0m\n\u001b[1;32m    924\u001b[0m     \u001b[0mtable\u001b[0m\u001b[0;34m[\u001b[0m\u001b[0;34m\"P-Value\"\u001b[0m\u001b[0;34m]\u001b[0m \u001b[0;34m=\u001b[0m \u001b[0mres_z_p\u001b[0m\u001b[0;34m.\u001b[0m\u001b[0mapply\u001b[0m\u001b[0;34m(\u001b[0m\u001b[0;32mlambda\u001b[0m \u001b[0mx\u001b[0m\u001b[0;34m:\u001b[0m \u001b[0mx\u001b[0m\u001b[0;34m[\u001b[0m\u001b[0;36m1\u001b[0m\u001b[0;34m]\u001b[0m\u001b[0;34m)\u001b[0m\u001b[0;34m\u001b[0m\u001b[0;34m\u001b[0m\u001b[0m\n",
      "\u001b[0;31mAttributeError\u001b[0m: 'tuple' object has no attribute 'dropna'"
     ]
    }
   ],
   "source": [
    "res, pearson = mp.all_methods(dfExpr, lMirUser = None, lGeneUser = lGene[0:5]+[\"CD274\"], n_core = 4, background = True, test = True)"
   ]
  },
  {
   "cell_type": "markdown",
   "metadata": {},
   "source": [
    "As result, the function return a table with all the microRNA/mRNA pairs and the coeficient obatin for each method. "
   ]
  },
  {
   "cell_type": "code",
   "execution_count": null,
   "metadata": {},
   "outputs": [],
   "source": [
    "res.head()"
   ]
  },
  {
   "cell_type": "markdown",
   "metadata": {},
   "source": [
    "**Filtering the results**\n",
    "\n",
    "Let's now run mp.FilterDF() to keep the most important microRNAs/mRNA pair. FilterDf allow to filter the pairs through the coeficients, the adjust pvalue, and/or the number of prediction tools that predict the interaction. In the publications, we use and FDR < 0.1, coef < -0.3, and min_db > 10."
   ]
  },
  {
   "cell_type": "code",
   "execution_count": 7,
   "metadata": {},
   "outputs": [],
   "source": [
    "table, matrix = mp.FilterDF(table = res, matrix = pearson, join = \"or\", low_coef = -0.2, high_coef = 1, pval = 0.1, analysis = \"Correlation\", min_db = 10)"
   ]
  },
  {
   "cell_type": "markdown",
   "metadata": {},
   "source": [
    "MIO implement the BORDA ranking sistem, which use all the metrics in the table to ranking the microRNA/mRNA pairs from the most relevant."
   ]
  },
  {
   "cell_type": "code",
   "execution_count": 8,
   "metadata": {},
   "outputs": [
    {
     "data": {
      "text/html": [
       "<div>\n",
       "<style scoped>\n",
       "    .dataframe tbody tr th:only-of-type {\n",
       "        vertical-align: middle;\n",
       "    }\n",
       "\n",
       "    .dataframe tbody tr th {\n",
       "        vertical-align: top;\n",
       "    }\n",
       "\n",
       "    .dataframe thead th {\n",
       "        text-align: right;\n",
       "    }\n",
       "</style>\n",
       "<table border=\"1\" class=\"dataframe\">\n",
       "  <thead>\n",
       "    <tr style=\"text-align: right;\">\n",
       "      <th></th>\n",
       "      <th>Ranking</th>\n",
       "      <th>Mir</th>\n",
       "      <th>Gene</th>\n",
       "    </tr>\n",
       "  </thead>\n",
       "  <tbody>\n",
       "    <tr>\n",
       "      <th>0</th>\n",
       "      <td>1.0</td>\n",
       "      <td>hsa-miR-149-5p</td>\n",
       "      <td>TRAF1</td>\n",
       "    </tr>\n",
       "    <tr>\n",
       "      <th>1</th>\n",
       "      <td>2.0</td>\n",
       "      <td>hsa-miR-508-5p</td>\n",
       "      <td>TRAF1</td>\n",
       "    </tr>\n",
       "    <tr>\n",
       "      <th>2</th>\n",
       "      <td>3.0</td>\n",
       "      <td>hsa-miR-1269a</td>\n",
       "      <td>TRAF3</td>\n",
       "    </tr>\n",
       "    <tr>\n",
       "      <th>3</th>\n",
       "      <td>4.0</td>\n",
       "      <td>hsa-miR-1226-3p</td>\n",
       "      <td>TRAF1</td>\n",
       "    </tr>\n",
       "  </tbody>\n",
       "</table>\n",
       "</div>"
      ],
      "text/plain": [
       "   Ranking              Mir   Gene\n",
       "0      1.0   hsa-miR-149-5p  TRAF1\n",
       "1      2.0   hsa-miR-508-5p  TRAF1\n",
       "2      3.0    hsa-miR-1269a  TRAF3\n",
       "3      4.0  hsa-miR-1226-3p  TRAF1"
      ]
     },
     "execution_count": 8,
     "metadata": {},
     "output_type": "execute_result"
    }
   ],
   "source": [
    "table[[\"Ranking\",\"Mir\",\"Gene\"]].head()"
   ]
  },
  {
   "cell_type": "markdown",
   "metadata": {},
   "source": [
    "#### Predict Target\n",
    "\n",
    "MIO integrate a custom database from a variety of target prediction tools. In MIO a target prediction can be done using only the 40 integrate prediction tools, or using a gene expression data. In this example, we predict the microRNA whih targeting CD274 (PDL1) using the database, and using the previous results.\n",
    "\n",
    "**Using only the 40 prediction tools**"
   ]
  },
  {
   "cell_type": "code",
   "execution_count": 10,
   "metadata": {},
   "outputs": [],
   "source": [
    "table, matrix = mp.predict_target(lTarget = [\"CD274\",], min_db = 10)"
   ]
  },
  {
   "cell_type": "code",
   "execution_count": 17,
   "metadata": {},
   "outputs": [
    {
     "data": {
      "text/html": [
       "<div>\n",
       "<style scoped>\n",
       "    .dataframe tbody tr th:only-of-type {\n",
       "        vertical-align: middle;\n",
       "    }\n",
       "\n",
       "    .dataframe tbody tr th {\n",
       "        vertical-align: top;\n",
       "    }\n",
       "\n",
       "    .dataframe thead th {\n",
       "        text-align: right;\n",
       "    }\n",
       "</style>\n",
       "<table border=\"1\" class=\"dataframe\">\n",
       "  <thead>\n",
       "    <tr style=\"text-align: right;\">\n",
       "      <th></th>\n",
       "      <th>Gene</th>\n",
       "      <th>Mir</th>\n",
       "      <th>Prediction Tools</th>\n",
       "      <th>Number Prediction Tools</th>\n",
       "    </tr>\n",
       "  </thead>\n",
       "  <tbody>\n",
       "    <tr>\n",
       "      <th>4901899</th>\n",
       "      <td>CD274</td>\n",
       "      <td>hsa-miR-138-5p</td>\n",
       "      <td>1110100011000110011001011010011010011100</td>\n",
       "      <td>20</td>\n",
       "    </tr>\n",
       "    <tr>\n",
       "      <th>7796711</th>\n",
       "      <td>CD274</td>\n",
       "      <td>hsa-miR-200a-3p</td>\n",
       "      <td>1110100001000110001000011010011110011100</td>\n",
       "      <td>18</td>\n",
       "    </tr>\n",
       "    <tr>\n",
       "      <th>8347133</th>\n",
       "      <td>CD274</td>\n",
       "      <td>hsa-miR-20b-5p</td>\n",
       "      <td>1010100001000111001001011010011010011100</td>\n",
       "      <td>18</td>\n",
       "    </tr>\n",
       "    <tr>\n",
       "      <th>30323241</th>\n",
       "      <td>CD274</td>\n",
       "      <td>hsa-miR-485-3p</td>\n",
       "      <td>1110100000000010011010011010011010011110</td>\n",
       "      <td>18</td>\n",
       "    </tr>\n",
       "    <tr>\n",
       "      <th>580067</th>\n",
       "      <td>CD274</td>\n",
       "      <td>hsa-miR-105-5p</td>\n",
       "      <td>1100100001000010011000011010011010011110</td>\n",
       "      <td>17</td>\n",
       "    </tr>\n",
       "  </tbody>\n",
       "</table>\n",
       "</div>"
      ],
      "text/plain": [
       "           Gene              Mir                          Prediction Tools  \\\n",
       "4901899   CD274   hsa-miR-138-5p  1110100011000110011001011010011010011100   \n",
       "7796711   CD274  hsa-miR-200a-3p  1110100001000110001000011010011110011100   \n",
       "8347133   CD274   hsa-miR-20b-5p  1010100001000111001001011010011010011100   \n",
       "30323241  CD274   hsa-miR-485-3p  1110100000000010011010011010011010011110   \n",
       "580067    CD274   hsa-miR-105-5p  1100100001000010011000011010011010011110   \n",
       "\n",
       "          Number Prediction Tools  \n",
       "4901899                        20  \n",
       "7796711                        18  \n",
       "8347133                        18  \n",
       "30323241                       18  \n",
       "580067                         17  "
      ]
     },
     "execution_count": 17,
     "metadata": {},
     "output_type": "execute_result"
    }
   ],
   "source": [
    "table.sort_values(\"Number Prediction Tools\", ascending=False).head()"
   ]
  },
  {
   "cell_type": "markdown",
   "metadata": {},
   "source": [
    "**Using the correlation result**"
   ]
  },
  {
   "cell_type": "code",
   "execution_count": 21,
   "metadata": {},
   "outputs": [
    {
     "data": {
      "text/html": [
       "<div>\n",
       "<style scoped>\n",
       "    .dataframe tbody tr th:only-of-type {\n",
       "        vertical-align: middle;\n",
       "    }\n",
       "\n",
       "    .dataframe tbody tr th {\n",
       "        vertical-align: top;\n",
       "    }\n",
       "\n",
       "    .dataframe thead th {\n",
       "        text-align: right;\n",
       "    }\n",
       "</style>\n",
       "<table border=\"1\" class=\"dataframe\">\n",
       "  <thead>\n",
       "    <tr style=\"text-align: right;\">\n",
       "      <th></th>\n",
       "      <th>Mir</th>\n",
       "      <th>Gene</th>\n",
       "      <th>Rho_Pval</th>\n",
       "      <th>Rho</th>\n",
       "      <th>R_Pval</th>\n",
       "      <th>R</th>\n",
       "      <th>Tau_Pval</th>\n",
       "      <th>Tau</th>\n",
       "      <th>RDC</th>\n",
       "      <th>Hoeffding</th>\n",
       "      <th>Ridge</th>\n",
       "      <th>Lasso</th>\n",
       "      <th>ElasticNet</th>\n",
       "      <th>Prediction Tools</th>\n",
       "      <th>Rho_fdr_bh</th>\n",
       "      <th>R_fdr_bh</th>\n",
       "      <th>Tau_fdr_bh</th>\n",
       "      <th>Number Prediction Tools</th>\n",
       "      <th>Ranking</th>\n",
       "    </tr>\n",
       "  </thead>\n",
       "  <tbody>\n",
       "    <tr>\n",
       "      <th>1</th>\n",
       "      <td>hsa-miR-455-3p</td>\n",
       "      <td>CD274</td>\n",
       "      <td>0.0</td>\n",
       "      <td>-0.283</td>\n",
       "      <td>0.0</td>\n",
       "      <td>-0.254</td>\n",
       "      <td>0.0</td>\n",
       "      <td>-0.192</td>\n",
       "      <td>0.279</td>\n",
       "      <td>0.023</td>\n",
       "      <td>-0.096</td>\n",
       "      <td>-0.110</td>\n",
       "      <td>-0.025</td>\n",
       "      <td>0000000000000000001001010000001000010010</td>\n",
       "      <td>0.000</td>\n",
       "      <td>0.0</td>\n",
       "      <td>0.000</td>\n",
       "      <td>6</td>\n",
       "      <td>7.0</td>\n",
       "    </tr>\n",
       "    <tr>\n",
       "      <th>2</th>\n",
       "      <td>hsa-miR-149-5p</td>\n",
       "      <td>CD274</td>\n",
       "      <td>0.0</td>\n",
       "      <td>-0.349</td>\n",
       "      <td>0.0</td>\n",
       "      <td>-0.332</td>\n",
       "      <td>0.0</td>\n",
       "      <td>-0.236</td>\n",
       "      <td>0.361</td>\n",
       "      <td>0.035</td>\n",
       "      <td>-0.045</td>\n",
       "      <td>-0.018</td>\n",
       "      <td>-0.026</td>\n",
       "      <td>0010000000000001001000010010001000001000</td>\n",
       "      <td>0.000</td>\n",
       "      <td>0.0</td>\n",
       "      <td>0.000</td>\n",
       "      <td>7</td>\n",
       "      <td>9.0</td>\n",
       "    </tr>\n",
       "    <tr>\n",
       "      <th>4</th>\n",
       "      <td>hsa-miR-92a-3p</td>\n",
       "      <td>CD274</td>\n",
       "      <td>0.0</td>\n",
       "      <td>-0.247</td>\n",
       "      <td>0.0</td>\n",
       "      <td>-0.275</td>\n",
       "      <td>0.0</td>\n",
       "      <td>-0.167</td>\n",
       "      <td>0.329</td>\n",
       "      <td>0.018</td>\n",
       "      <td>-0.102</td>\n",
       "      <td>-0.016</td>\n",
       "      <td>-0.034</td>\n",
       "      <td>0010000000000010001000011000001000001000</td>\n",
       "      <td>0.000</td>\n",
       "      <td>0.0</td>\n",
       "      <td>0.000</td>\n",
       "      <td>7</td>\n",
       "      <td>11.0</td>\n",
       "    </tr>\n",
       "    <tr>\n",
       "      <th>22</th>\n",
       "      <td>hsa-miR-149-3p</td>\n",
       "      <td>CD274</td>\n",
       "      <td>0.0</td>\n",
       "      <td>-0.221</td>\n",
       "      <td>0.0</td>\n",
       "      <td>-0.230</td>\n",
       "      <td>0.0</td>\n",
       "      <td>-0.148</td>\n",
       "      <td>0.253</td>\n",
       "      <td>0.012</td>\n",
       "      <td>-0.034</td>\n",
       "      <td>-0.047</td>\n",
       "      <td>-0.008</td>\n",
       "      <td>0010000000000000001001010000000000011000</td>\n",
       "      <td>0.000</td>\n",
       "      <td>0.0</td>\n",
       "      <td>0.000</td>\n",
       "      <td>6</td>\n",
       "      <td>31.0</td>\n",
       "    </tr>\n",
       "    <tr>\n",
       "      <th>30</th>\n",
       "      <td>hsa-miR-92a-1-5p</td>\n",
       "      <td>CD274</td>\n",
       "      <td>0.0</td>\n",
       "      <td>-0.202</td>\n",
       "      <td>0.0</td>\n",
       "      <td>-0.227</td>\n",
       "      <td>0.0</td>\n",
       "      <td>-0.136</td>\n",
       "      <td>0.312</td>\n",
       "      <td>0.011</td>\n",
       "      <td>-0.037</td>\n",
       "      <td>-0.025</td>\n",
       "      <td>-0.011</td>\n",
       "      <td>0010000000000000001001010010000000010000</td>\n",
       "      <td>0.001</td>\n",
       "      <td>0.0</td>\n",
       "      <td>0.002</td>\n",
       "      <td>6</td>\n",
       "      <td>34.0</td>\n",
       "    </tr>\n",
       "  </tbody>\n",
       "</table>\n",
       "</div>"
      ],
      "text/plain": [
       "                 Mir   Gene  Rho_Pval    Rho  R_Pval      R  Tau_Pval    Tau  \\\n",
       "1     hsa-miR-455-3p  CD274       0.0 -0.283     0.0 -0.254       0.0 -0.192   \n",
       "2     hsa-miR-149-5p  CD274       0.0 -0.349     0.0 -0.332       0.0 -0.236   \n",
       "4     hsa-miR-92a-3p  CD274       0.0 -0.247     0.0 -0.275       0.0 -0.167   \n",
       "22    hsa-miR-149-3p  CD274       0.0 -0.221     0.0 -0.230       0.0 -0.148   \n",
       "30  hsa-miR-92a-1-5p  CD274       0.0 -0.202     0.0 -0.227       0.0 -0.136   \n",
       "\n",
       "      RDC  Hoeffding  Ridge  Lasso  ElasticNet  \\\n",
       "1   0.279      0.023 -0.096 -0.110      -0.025   \n",
       "2   0.361      0.035 -0.045 -0.018      -0.026   \n",
       "4   0.329      0.018 -0.102 -0.016      -0.034   \n",
       "22  0.253      0.012 -0.034 -0.047      -0.008   \n",
       "30  0.312      0.011 -0.037 -0.025      -0.011   \n",
       "\n",
       "                            Prediction Tools  Rho_fdr_bh  R_fdr_bh  \\\n",
       "1   0000000000000000001001010000001000010010       0.000       0.0   \n",
       "2   0010000000000001001000010010001000001000       0.000       0.0   \n",
       "4   0010000000000010001000011000001000001000       0.000       0.0   \n",
       "22  0010000000000000001001010000000000011000       0.000       0.0   \n",
       "30  0010000000000000001001010010000000010000       0.001       0.0   \n",
       "\n",
       "    Tau_fdr_bh  Number Prediction Tools  Ranking  \n",
       "1        0.000                        6      7.0  \n",
       "2        0.000                        7      9.0  \n",
       "4        0.000                        7     11.0  \n",
       "22       0.000                        6     31.0  \n",
       "30       0.002                        6     34.0  "
      ]
     },
     "execution_count": 21,
     "metadata": {},
     "output_type": "execute_result"
    }
   ],
   "source": [
    "table, matrix = mp.predict_target(table = res, matrix = None, lTarget = [\"CD274\",], lTools = None, method = \"or\", min_db = 5, low_coef = -0.2, high_coef = 1, pval = 0.1)\n",
    "table.sort_values(\"Ranking\").head()"
   ]
  },
  {
   "cell_type": "markdown",
   "metadata": {},
   "source": [
    "## Use Case S2: Genes involved in antigen processing and presentation by microRNAs\n",
    "\n",
    "Deficient or down regulated genes of the antigen processing and presentation machinery have been associated with response prediction to cancer immunotherapy. In order to study, which microRNAs are potentially able to down regulate the complete pathwey we perfom a correlation analysis using a weigthed expression score."
   ]
  },
  {
   "cell_type": "code",
   "execution_count": 22,
   "metadata": {},
   "outputs": [],
   "source": [
    "lGene = open(\"genesets/geneset_Antigen Processig and Presentation [ImmPort].txt\",\"r\").read().split()\n",
    "dfCor, dfPval, dfSetScore = mp.gene_set_correlation(dfExpr, lGene, GeneSetName = \"Antigen Processig and Presentation [ImmPort]\", lMirUser = None, n_core = 8)"
   ]
  },
  {
   "cell_type": "markdown",
   "metadata": {},
   "source": [
    "gene_set_correlation return 3 elements: the pearson's coefficients, the p.value, and the calculate module score for each sample and microRNA."
   ]
  },
  {
   "cell_type": "code",
   "execution_count": 34,
   "metadata": {},
   "outputs": [],
   "source": [
    "dfPval.columns = [\"P.val\"]"
   ]
  },
  {
   "cell_type": "code",
   "execution_count": 37,
   "metadata": {},
   "outputs": [],
   "source": [
    "table = pd.concat([dfCor, dfPval], axis = 1)"
   ]
  },
  {
   "cell_type": "code",
   "execution_count": 40,
   "metadata": {},
   "outputs": [
    {
     "data": {
      "text/html": [
       "<div>\n",
       "<style scoped>\n",
       "    .dataframe tbody tr th:only-of-type {\n",
       "        vertical-align: middle;\n",
       "    }\n",
       "\n",
       "    .dataframe tbody tr th {\n",
       "        vertical-align: top;\n",
       "    }\n",
       "\n",
       "    .dataframe thead th {\n",
       "        text-align: right;\n",
       "    }\n",
       "</style>\n",
       "<table border=\"1\" class=\"dataframe\">\n",
       "  <thead>\n",
       "    <tr style=\"text-align: right;\">\n",
       "      <th></th>\n",
       "      <th>Antigen Processig and Presentation [ImmPort]</th>\n",
       "      <th>P.val</th>\n",
       "    </tr>\n",
       "  </thead>\n",
       "  <tbody>\n",
       "    <tr>\n",
       "      <th>hsa-miR-181a-2-3p</th>\n",
       "      <td>-0.351556</td>\n",
       "      <td>3.115492e-12</td>\n",
       "    </tr>\n",
       "    <tr>\n",
       "      <th>hsa-miR-135a-3p</th>\n",
       "      <td>-0.343839</td>\n",
       "      <td>9.815359e-12</td>\n",
       "    </tr>\n",
       "    <tr>\n",
       "      <th>hsa-miR-125b-5p</th>\n",
       "      <td>-0.335803</td>\n",
       "      <td>3.137053e-11</td>\n",
       "    </tr>\n",
       "    <tr>\n",
       "      <th>hsa-miR-149-5p</th>\n",
       "      <td>-0.326228</td>\n",
       "      <td>1.199474e-10</td>\n",
       "    </tr>\n",
       "    <tr>\n",
       "      <th>hsa-miR-130a-3p</th>\n",
       "      <td>-0.316519</td>\n",
       "      <td>4.457801e-10</td>\n",
       "    </tr>\n",
       "  </tbody>\n",
       "</table>\n",
       "</div>"
      ],
      "text/plain": [
       "                   Antigen Processig and Presentation [ImmPort]         P.val\n",
       "hsa-miR-181a-2-3p                                     -0.351556  3.115492e-12\n",
       "hsa-miR-135a-3p                                       -0.343839  9.815359e-12\n",
       "hsa-miR-125b-5p                                       -0.335803  3.137053e-11\n",
       "hsa-miR-149-5p                                        -0.326228  1.199474e-10\n",
       "hsa-miR-130a-3p                                       -0.316519  4.457801e-10"
      ]
     },
     "execution_count": 40,
     "metadata": {},
     "output_type": "execute_result"
    }
   ],
   "source": [
    "table.sort_values(\"Antigen Processig and Presentation [ImmPort]\").head()"
   ]
  },
  {
   "cell_type": "markdown",
   "metadata": {},
   "source": [
    "## Use Case S3: Identifying a microRNA signature predictive for survival\n",
    "\n",
    "In the publication we used the TCGA-CRC dataset to predict microRNA related with the microsatelite inestability. In this case, we are going to use the TCGA-LUAD to predict the survival (death status) samples. This is only an example about how to use the function."
   ]
  },
  {
   "cell_type": "code",
   "execution_count": 42,
   "metadata": {},
   "outputs": [],
   "source": [
    "from miopy.feature_selection import feature_selection"
   ]
  },
  {
   "cell_type": "code",
   "execution_count": 48,
   "metadata": {},
   "outputs": [],
   "source": [
    "data = pd.concat([dfMir.transpose(),metadata.loc[:,\"event\"]], axis = 1)\n",
    "data = data.dropna()"
   ]
  },
  {
   "cell_type": "code",
   "execution_count": 60,
   "metadata": {},
   "outputs": [
    {
     "name": "stdout",
     "output_type": "stream",
     "text": [
      "Loading dataset...\n",
      "\n",
      "Classifier Random Forest\n",
      "\ttraining: 1.0000, test: 0.6316\n",
      "\ttraining: 1.0000, test: 0.6316\n",
      "\ttraining: 1.0000, test: 0.5789\n",
      "\ttraining: 1.0000, test: 0.5526\n",
      "\ttraining: 1.0000, test: 0.6579\n",
      "\ttraining: 1.0000, test: 0.6053\n",
      "\ttraining: 1.0000, test: 0.5676\n",
      "\ttraining: 1.0000, test: 0.6486\n",
      "\ttraining: 1.0000, test: 0.5135\n",
      "\ttraining: 1.0000, test: 0.5946\n",
      "\ttest mean: 0.5982\n",
      "\n",
      "Classifier Logistic Regresion\n",
      "\ttraining: 1.0000, test: 0.7105\n",
      "\ttraining: 1.0000, test: 0.5526\n",
      "\ttraining: 1.0000, test: 0.5263\n",
      "\ttraining: 1.0000, test: 0.5000\n",
      "\ttraining: 1.0000, test: 0.6579\n",
      "\ttraining: 1.0000, test: 0.5526\n",
      "\ttraining: 1.0000, test: 0.4865\n",
      "\ttraining: 1.0000, test: 0.5405\n",
      "\ttraining: 1.0000, test: 0.5405\n",
      "\ttraining: 1.0000, test: 0.7297\n",
      "\ttest mean: 0.5797\n",
      "\n",
      "Classifier Ridge Classfier\n",
      "\ttraining: 1.0000, test: 0.7105\n",
      "\ttraining: 1.0000, test: 0.6053\n",
      "\ttraining: 1.0000, test: 0.4211\n",
      "\ttraining: 1.0000, test: 0.6316\n",
      "\ttraining: 1.0000, test: 0.5526\n",
      "\ttraining: 1.0000, test: 0.5789\n",
      "\ttraining: 1.0000, test: 0.5135\n",
      "\ttraining: 1.0000, test: 0.5676\n",
      "\ttraining: 1.0000, test: 0.6216\n",
      "\ttraining: 1.0000, test: 0.6216\n",
      "\ttest mean: 0.5824\n",
      "\n",
      "Classifier Support Vector Machine Classfier\n",
      "\ttraining: 1.0000, test: 0.6579\n",
      "\ttraining: 1.0000, test: 0.5526\n",
      "\ttraining: 1.0000, test: 0.5263\n",
      "\ttraining: 1.0000, test: 0.5000\n",
      "\ttraining: 1.0000, test: 0.5789\n",
      "\ttraining: 1.0000, test: 0.5263\n",
      "\ttraining: 1.0000, test: 0.5405\n",
      "\ttraining: 1.0000, test: 0.5676\n",
      "\ttraining: 1.0000, test: 0.5405\n",
      "\ttraining: 1.0000, test: 0.7027\n",
      "\ttest mean: 0.5693\n",
      "\n",
      "Classifier Ada Classifier\n",
      "\ttraining: 1.0000, test: 0.6842\n",
      "\ttraining: 1.0000, test: 0.5789\n",
      "\ttraining: 1.0000, test: 0.5000\n",
      "\ttraining: 1.0000, test: 0.5526\n",
      "\ttraining: 1.0000, test: 0.6842\n",
      "\ttraining: 1.0000, test: 0.6316\n",
      "\ttraining: 1.0000, test: 0.3784\n",
      "\ttraining: 1.0000, test: 0.4865\n",
      "\ttraining: 1.0000, test: 0.4324\n",
      "\ttraining: 1.0000, test: 0.5405\n",
      "\ttest mean: 0.5469\n",
      "\n",
      "Classifier Bagging Classifier\n",
      "\ttraining: 1.0000, test: 0.6053\n",
      "\ttraining: 1.0000, test: 0.6579\n",
      "\ttraining: 1.0000, test: 0.6053\n",
      "\ttraining: 1.0000, test: 0.5789\n",
      "\ttraining: 1.0000, test: 0.6842\n",
      "\ttraining: 1.0000, test: 0.6053\n",
      "\ttraining: 1.0000, test: 0.5676\n",
      "\ttraining: 1.0000, test: 0.5676\n",
      "\ttraining: 1.0000, test: 0.5676\n",
      "\ttraining: 1.0000, test: 0.5405\n",
      "\ttest mean: 0.5980\n",
      "\n",
      "Classifier Gradient Boosting Classifier\n",
      "\ttraining: 1.0000, test: 0.6316\n",
      "\ttraining: 1.0000, test: 0.7105\n",
      "\ttraining: 1.0000, test: 0.5526\n",
      "\ttraining: 1.0000, test: 0.5000\n",
      "\ttraining: 1.0000, test: 0.7105\n",
      "\ttraining: 1.0000, test: 0.6316\n",
      "\ttraining: 1.0000, test: 0.5946\n",
      "\ttraining: 1.0000, test: 0.5676\n",
      "\ttraining: 1.0000, test: 0.5946\n",
      "\ttraining: 1.0000, test: 0.5676\n",
      "\ttest mean: 0.6061\n"
     ]
    }
   ],
   "source": [
    "top_feature, dAll, DictScore = feature_selection(data, k = 10, topk = 25, group = \"event\")"
   ]
  },
  {
   "cell_type": "markdown",
   "metadata": {},
   "source": [
    "Th feature selection return the top predictors most informative in separating the death status in the TCGA-LUAD patients. Now, we can use this predictors to training a model, and see how robust are these microRNAs."
   ]
  },
  {
   "cell_type": "code",
   "execution_count": 61,
   "metadata": {},
   "outputs": [],
   "source": [
    "from miopy.classification import classification_cv"
   ]
  },
  {
   "cell_type": "code",
   "execution_count": 62,
   "metadata": {},
   "outputs": [
    {
     "name": "stdout",
     "output_type": "stream",
     "text": [
      "Loading dataset...\n",
      "\n",
      "Classifier Random Forest\n",
      "\ttraining: 1.0000, test: 0.7763\n",
      "\ttraining: 1.0000, test: 0.6933\n",
      "\ttraining: 1.0000, test: 0.6400\n",
      "\ttraining: 1.0000, test: 0.6800\n",
      "\ttraining: 1.0000, test: 0.5600\n",
      "\tTest Mean: 0.6699\n"
     ]
    }
   ],
   "source": [
    "results = classification_cv(data, k = 5, name = \"Random Forest\", group = \"event\", lFeature = top_feature.index)\n"
   ]
  },
  {
   "cell_type": "markdown",
   "metadata": {},
   "source": [
    "## Use Case S4: MicroRNA target genes synthetic lethal to immune (therapy) essential genes\n",
    "\n",
    "In order to identify synthetic lethal partner genes in tumor cells we have taken advantage of previous efforts and used the ISLE algorithm for calculation (Lee et al., 2018), which is available within MIO. We were\n",
    "interested in identifying microRNAs targeting genes which are synthetic lethal to immune(therapy) essential genes. We used the option Target Prediction, miRNA Synthetic Lethal Prediction. \n",
    "\n",
    "In addition, MIOPY can perform an overrepresentation analysis for microRNAs based on the number of synthetic lethal target genes compared to all potential target genes."
   ]
  },
  {
   "cell_type": "code",
   "execution_count": 63,
   "metadata": {},
   "outputs": [],
   "source": [
    "lGene = open(\"genesets/geneset_Immune essential genes [Patel].txt\",\"r\").read().split()"
   ]
  },
  {
   "cell_type": "code",
   "execution_count": 66,
   "metadata": {},
   "outputs": [],
   "source": [
    "target, matrix, ora = mp.predict_lethality2(lQuery = lGene, lTools = None, method = \"or\", min_db = 25)"
   ]
  },
  {
   "cell_type": "code",
   "execution_count": 68,
   "metadata": {},
   "outputs": [
    {
     "data": {
      "text/html": [
       "<div>\n",
       "<style scoped>\n",
       "    .dataframe tbody tr th:only-of-type {\n",
       "        vertical-align: middle;\n",
       "    }\n",
       "\n",
       "    .dataframe tbody tr th {\n",
       "        vertical-align: top;\n",
       "    }\n",
       "\n",
       "    .dataframe thead th {\n",
       "        text-align: right;\n",
       "    }\n",
       "</style>\n",
       "<table border=\"1\" class=\"dataframe\">\n",
       "  <thead>\n",
       "    <tr style=\"text-align: right;\">\n",
       "      <th></th>\n",
       "      <th>Query</th>\n",
       "      <th>Synthetic Lethal</th>\n",
       "      <th>Gene</th>\n",
       "      <th>Mir</th>\n",
       "      <th>Prediction Tools</th>\n",
       "      <th>Number Prediction Tools</th>\n",
       "    </tr>\n",
       "  </thead>\n",
       "  <tbody>\n",
       "    <tr>\n",
       "      <th>280</th>\n",
       "      <td>MED23</td>\n",
       "      <td>HOXC8</td>\n",
       "      <td>HOXC8</td>\n",
       "      <td>hsa-miR-196a-5p</td>\n",
       "      <td>1111111111101010111110111110101110001111</td>\n",
       "      <td>31</td>\n",
       "    </tr>\n",
       "    <tr>\n",
       "      <th>186</th>\n",
       "      <td>RECQL4</td>\n",
       "      <td>BACH1</td>\n",
       "      <td>BACH1</td>\n",
       "      <td>hsa-miR-155-5p</td>\n",
       "      <td>1011101011001110111110111110111110011111</td>\n",
       "      <td>30</td>\n",
       "    </tr>\n",
       "    <tr>\n",
       "      <th>157</th>\n",
       "      <td>PPARD</td>\n",
       "      <td>ZFX</td>\n",
       "      <td>ZFX</td>\n",
       "      <td>hsa-miR-144-3p</td>\n",
       "      <td>1111110011101111111111011110001110011110</td>\n",
       "      <td>30</td>\n",
       "    </tr>\n",
       "    <tr>\n",
       "      <th>192</th>\n",
       "      <td>RECQL4</td>\n",
       "      <td>BNIP2</td>\n",
       "      <td>BNIP2</td>\n",
       "      <td>hsa-miR-20b-5p</td>\n",
       "      <td>0110111011101111111101111110001110011111</td>\n",
       "      <td>30</td>\n",
       "    </tr>\n",
       "    <tr>\n",
       "      <th>281</th>\n",
       "      <td>MED23</td>\n",
       "      <td>HOXC8</td>\n",
       "      <td>HOXC8</td>\n",
       "      <td>hsa-miR-196b-5p</td>\n",
       "      <td>1111111011101011111110111110000110001111</td>\n",
       "      <td>29</td>\n",
       "    </tr>\n",
       "  </tbody>\n",
       "</table>\n",
       "</div>"
      ],
      "text/plain": [
       "      Query Synthetic Lethal   Gene              Mir  \\\n",
       "280   MED23            HOXC8  HOXC8  hsa-miR-196a-5p   \n",
       "186  RECQL4            BACH1  BACH1   hsa-miR-155-5p   \n",
       "157   PPARD              ZFX    ZFX   hsa-miR-144-3p   \n",
       "192  RECQL4            BNIP2  BNIP2   hsa-miR-20b-5p   \n",
       "281   MED23            HOXC8  HOXC8  hsa-miR-196b-5p   \n",
       "\n",
       "                             Prediction Tools  Number Prediction Tools  \n",
       "280  1111111111101010111110111110101110001111                       31  \n",
       "186  1011101011001110111110111110111110011111                       30  \n",
       "157  1111110011101111111111011110001110011110                       30  \n",
       "192  0110111011101111111101111110001110011111                       30  \n",
       "281  1111111011101011111110111110000110001111                       29  "
      ]
     },
     "execution_count": 68,
     "metadata": {},
     "output_type": "execute_result"
    }
   ],
   "source": [
    "target.sort_values(\"Number Prediction Tools\", ascending=False).head()"
   ]
  },
  {
   "cell_type": "code",
   "execution_count": 71,
   "metadata": {},
   "outputs": [
    {
     "data": {
      "text/html": [
       "<div>\n",
       "<style scoped>\n",
       "    .dataframe tbody tr th:only-of-type {\n",
       "        vertical-align: middle;\n",
       "    }\n",
       "\n",
       "    .dataframe tbody tr th {\n",
       "        vertical-align: top;\n",
       "    }\n",
       "\n",
       "    .dataframe thead th {\n",
       "        text-align: right;\n",
       "    }\n",
       "</style>\n",
       "<table border=\"1\" class=\"dataframe\">\n",
       "  <thead>\n",
       "    <tr style=\"text-align: right;\">\n",
       "      <th></th>\n",
       "      <th>microRNA</th>\n",
       "      <th>Target Number</th>\n",
       "      <th>Expected Number</th>\n",
       "      <th>Fold Enrichment</th>\n",
       "      <th>Raw P-value</th>\n",
       "      <th>FDR</th>\n",
       "    </tr>\n",
       "  </thead>\n",
       "  <tbody>\n",
       "    <tr>\n",
       "      <th>hsa-miR-124-3p</th>\n",
       "      <td>hsa-miR-124-3p</td>\n",
       "      <td>11</td>\n",
       "      <td>2.92598</td>\n",
       "      <td>3.78978</td>\n",
       "      <td>0.000415719</td>\n",
       "      <td>0.0357519</td>\n",
       "    </tr>\n",
       "    <tr>\n",
       "      <th>hsa-miR-20b-5p</th>\n",
       "      <td>hsa-miR-20b-5p</td>\n",
       "      <td>18</td>\n",
       "      <td>9.76979</td>\n",
       "      <td>1.85768</td>\n",
       "      <td>0.0215791</td>\n",
       "      <td>0.447906</td>\n",
       "    </tr>\n",
       "    <tr>\n",
       "      <th>hsa-miR-373-3p</th>\n",
       "      <td>hsa-miR-373-3p</td>\n",
       "      <td>6</td>\n",
       "      <td>2.47964</td>\n",
       "      <td>2.42818</td>\n",
       "      <td>0.0479099</td>\n",
       "      <td>0.447906</td>\n",
       "    </tr>\n",
       "    <tr>\n",
       "      <th>hsa-miR-221-3p</th>\n",
       "      <td>hsa-miR-221-3p</td>\n",
       "      <td>5</td>\n",
       "      <td>1.93412</td>\n",
       "      <td>2.59303</td>\n",
       "      <td>0.0553376</td>\n",
       "      <td>0.447906</td>\n",
       "    </tr>\n",
       "    <tr>\n",
       "      <th>hsa-miR-106b-5p</th>\n",
       "      <td>hsa-miR-106b-5p</td>\n",
       "      <td>7</td>\n",
       "      <td>3.91784</td>\n",
       "      <td>1.79219</td>\n",
       "      <td>0.127321</td>\n",
       "      <td>0.447906</td>\n",
       "    </tr>\n",
       "  </tbody>\n",
       "</table>\n",
       "</div>"
      ],
      "text/plain": [
       "                        microRNA Target Number Expected Number  \\\n",
       "hsa-miR-124-3p    hsa-miR-124-3p            11         2.92598   \n",
       "hsa-miR-20b-5p    hsa-miR-20b-5p            18         9.76979   \n",
       "hsa-miR-373-3p    hsa-miR-373-3p             6         2.47964   \n",
       "hsa-miR-221-3p    hsa-miR-221-3p             5         1.93412   \n",
       "hsa-miR-106b-5p  hsa-miR-106b-5p             7         3.91784   \n",
       "\n",
       "                Fold Enrichment  Raw P-value        FDR  \n",
       "hsa-miR-124-3p          3.78978  0.000415719  0.0357519  \n",
       "hsa-miR-20b-5p          1.85768    0.0215791   0.447906  \n",
       "hsa-miR-373-3p          2.42818    0.0479099   0.447906  \n",
       "hsa-miR-221-3p          2.59303    0.0553376   0.447906  \n",
       "hsa-miR-106b-5p         1.79219     0.127321   0.447906  "
      ]
     },
     "execution_count": 71,
     "metadata": {},
     "output_type": "execute_result"
    }
   ],
   "source": [
    "ora.sort_values(\"FDR\").head()"
   ]
  },
  {
   "cell_type": "code",
   "execution_count": null,
   "metadata": {},
   "outputs": [],
   "source": []
  }
 ],
 "metadata": {
  "kernelspec": {
   "display_name": "Python 3",
   "language": "python",
   "name": "python3"
  },
  "language_info": {
   "codemirror_mode": {
    "name": "ipython",
    "version": 3
   },
   "file_extension": ".py",
   "mimetype": "text/x-python",
   "name": "python",
   "nbconvert_exporter": "python",
   "pygments_lexer": "ipython3",
   "version": "3.8.10"
  }
 },
 "nbformat": 4,
 "nbformat_minor": 4
}
