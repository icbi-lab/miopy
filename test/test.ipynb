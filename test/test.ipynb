{
 "cells": [
  {
   "cell_type": "markdown",
   "metadata": {},
   "source": [
    "# MIOPY: Use cases\n",
    "\n",
    "In this tutorial, we demonstrate how MIOPY can be used to study the microRNA/mRNA interaction from expression data.\n",
    "\n",
    "For this tutorial, we use the TCGA-LUAD dataset.\n",
    "\n",
    "## Use Case S1: MicroRNAs targeting immune modulators including PD-L1\n",
    "\n",
    "We were intereseted in finding out which are the most important microRNAs regulating immune-checkpoints in tumor cells.\n",
    "\n",
    "#### Loading the example dataset"
   ]
  },
  {
   "cell_type": "code",
   "execution_count": 1,
   "metadata": {},
   "outputs": [],
   "source": [
    "import miopy as mp\n",
    "import pandas as pd\n",
    "import matplotlib.pyplot as plt\n",
    "import warnings\n",
    "warnings.filterwarnings('ignore')"
   ]
  },
  {
   "cell_type": "code",
   "execution_count": 2,
   "metadata": {},
   "outputs": [],
   "source": [
    "dfMir, dfRna, metadata = mp.load_dataset(\"TCGA-OV\")"
   ]
  },
  {
   "cell_type": "markdown",
   "metadata": {},
   "source": [
    "**We filtered to keep only primary tumor samples**.\n"
   ]
  },
  {
   "cell_type": "code",
   "execution_count": 3,
   "metadata": {},
   "outputs": [],
   "source": [
    "dfExpr = mp.concat_matrix(dfMir,dfRna)\n",
    "dfExpr = dfExpr.loc[metadata.query('sample_type == \"PrimaryTumor\"').index,:]"
   ]
  },
  {
   "cell_type": "markdown",
   "metadata": {},
   "source": [
    "#### Run Correlation\n",
    "\n",
    "In the use case from the publication, we used the Immune Checkpoint (ICBI) geneset, but in this case we reduce the number of genes to reduce the computational times. We can run all the methods with mp.all_methods, every methods can be running indivdually."
   ]
  },
  {
   "cell_type": "code",
   "execution_count": 4,
   "metadata": {},
   "outputs": [
    {
     "data": {
      "text/plain": [
       "['PDCD1']"
      ]
     },
     "execution_count": 4,
     "metadata": {},
     "output_type": "execute_result"
    }
   ],
   "source": [
    "lGene = open(\"genesets/geneset_Immune checkpoints [ICBI].txt\",\"r\").read().split()\n",
    "lGene[0:1]"
   ]
  },
  {
   "cell_type": "code",
   "execution_count": null,
   "metadata": {},
   "outputs": [
    {
     "name": "stdout",
     "output_type": "stream",
     "text": [
      "Obtain Concat Gene and MIR\n",
      "Number of genes: 4\n",
      "Number of miRNAs: 347\n",
      "Number of samples: 371\n",
      "Number of features: 12567\n",
      "None\n",
      "                 hsa-let-7a-5p  hsa-let-7a-2-3p  hsa-let-7b-5p  hsa-let-7b-3p   \n",
      "TCGA-24-1558-01      15.885907         4.910062      14.740380       5.629762  \\\n",
      "TCGA-13-0766-01      12.432427         5.897493      14.427845       6.770913   \n",
      "TCGA-36-1570-01      15.585205         1.541587      15.947901       5.939390   \n",
      "TCGA-29-1763-01      15.913488         4.312351      15.449972       6.861324   \n",
      "TCGA-29-1695-01      16.484594         4.992670      16.172414       6.733752   \n",
      "\n",
      "                 hsa-let-7c-5p  hsa-let-7c-3p  hsa-let-7d-5p  hsa-let-7d-3p   \n",
      "TCGA-24-1558-01      15.350796       5.137807       8.427782      11.349796  \\\n",
      "TCGA-13-0766-01      11.212190       1.253637       7.086527      13.601978   \n",
      "TCGA-36-1570-01      14.710954       3.792548       9.549007      12.687799   \n",
      "TCGA-29-1763-01      14.045072       2.511255       7.785404      11.629016   \n",
      "TCGA-29-1695-01      12.865222       1.810919       8.266094      11.489683   \n",
      "\n",
      "                 hsa-let-7e-5p  hsa-let-7e-3p  ...    DHRS11     ACACA   \n",
      "TCGA-24-1558-01      11.652531       6.903342  ...  6.241524  6.486035  \\\n",
      "TCGA-13-0766-01       8.852062       8.800532  ...  3.898917  4.902289   \n",
      "TCGA-36-1570-01      10.607568       5.801612  ...  4.986411  4.748545   \n",
      "TCGA-29-1763-01      12.180194       6.882603  ...  3.055283  6.064810   \n",
      "TCGA-29-1695-01      12.932285       8.149449  ...  4.819095  6.726941   \n",
      "\n",
      "                 C11orf98      MRM1     H3C10    MRPL45      HEIH     PAGR1   \n",
      "TCGA-24-1558-01  3.491001  2.707344  2.911554  4.259096  3.736703  2.961209  \\\n",
      "TCGA-13-0766-01  3.566258  2.254216  2.523103  4.347875  4.780529  2.808356   \n",
      "TCGA-36-1570-01  2.413339  2.605803  2.582780  4.893318  5.238398  2.975405   \n",
      "TCGA-29-1763-01  1.894565  2.182674  0.952921  5.161476  3.891199  2.872302   \n",
      "TCGA-29-1695-01  2.860232  2.521175  2.629768  4.620659  3.880522  3.032769   \n",
      "\n",
      "                 LINC00294    EBLN3P  \n",
      "TCGA-24-1558-01   2.445428  5.926655  \n",
      "TCGA-13-0766-01   2.789055  5.308599  \n",
      "TCGA-36-1570-01   2.497813  6.513032  \n",
      "TCGA-29-1763-01   2.357311  6.100432  \n",
      "TCGA-29-1695-01   2.814948  6.100514  \n",
      "\n",
      "[5 rows x 12567 columns]\n",
      "Loading dataset...\n",
      "\n",
      "Classifier Rho\n",
      "\n",
      "Classifier R\n",
      "\n",
      "Classifier Tau\n",
      "\n",
      "Background\n"
     ]
    }
   ],
   "source": [
    "res, pearson = mp.all_methods(dfExpr, lMirUser = None, lGeneUser = lGene[0:5]+[\"CD274\"], n_core = 4, background = True, test = True)"
   ]
  },
  {
   "cell_type": "markdown",
   "metadata": {},
   "source": [
    "As result, the function return a table with all the microRNA/mRNA pairs and the coeficient obatin for each method. "
   ]
  },
  {
   "cell_type": "code",
   "execution_count": null,
   "metadata": {},
   "outputs": [],
   "source": [
    "res.loc[res[\"P-Value\"] < 0.05,:].sort_values(\"P-Value\")"
   ]
  },
  {
   "cell_type": "markdown",
   "metadata": {},
   "source": [
    "**Filtering the results**\n",
    "\n",
    "Let's now run mp.FilterDF() to keep the most important microRNAs/mRNA pair. FilterDf allow to filter the pairs through the coeficients, the adjust pvalue, and/or the number of prediction tools that predict the interaction. In the publications, we use and FDR < 0.1, coef < -0.3, and min_db > 10."
   ]
  },
  {
   "cell_type": "code",
   "execution_count": null,
   "metadata": {},
   "outputs": [],
   "source": [
    "table, matrix = mp.FilterDF(table = res, matrix = pearson, join = \"or\", low_coef = -0.2, high_coef = 1, pval = 0.1, analysis = \"Correlation\", min_db = 10)"
   ]
  },
  {
   "cell_type": "markdown",
   "metadata": {},
   "source": [
    "MIO implement the BORDA ranking sistem, which use all the metrics in the table to ranking the microRNA/mRNA pairs from the most relevant."
   ]
  },
  {
   "cell_type": "code",
   "execution_count": null,
   "metadata": {},
   "outputs": [],
   "source": [
    "table[[\"Ranking\",\"Mir\",\"Gene\"]].head()"
   ]
  },
  {
   "cell_type": "markdown",
   "metadata": {},
   "source": [
    "#### Predict Target\n",
    "\n",
    "MIO integrate a custom database from a variety of target prediction tools. In MIO a target prediction can be done using only the 40 integrate prediction tools, or using a gene expression data. In this example, we predict the microRNA whih targeting CD274 (PDL1) using the database, and using the previous results.\n",
    "\n",
    "**Using only the 40 prediction tools**"
   ]
  },
  {
   "cell_type": "code",
   "execution_count": null,
   "metadata": {},
   "outputs": [],
   "source": [
    "table, matrix = mp.predict_target(lTarget = [\"CD274\",], min_db = 10)"
   ]
  },
  {
   "cell_type": "code",
   "execution_count": null,
   "metadata": {},
   "outputs": [],
   "source": [
    "table.sort_values(\"Number Prediction Tools\", ascending=False).head()"
   ]
  },
  {
   "cell_type": "markdown",
   "metadata": {},
   "source": [
    "**Using the correlation result**"
   ]
  },
  {
   "cell_type": "code",
   "execution_count": null,
   "metadata": {},
   "outputs": [],
   "source": [
    "table, matrix = mp.predict_target(table = res, matrix = None, lTarget = [\"CD274\",], lTools = None, method = \"or\", min_db = 5, low_coef = -0.2, high_coef = 1, pval = 0.1)\n",
    "table.sort_values(\"Ranking\").head()"
   ]
  },
  {
   "cell_type": "markdown",
   "metadata": {},
   "source": [
    "## Use Case S2: Genes involved in antigen processing and presentation by microRNAs\n",
    "\n",
    "Deficient or down regulated genes of the antigen processing and presentation machinery have been associated with response prediction to cancer immunotherapy. In order to study, which microRNAs are potentially able to down regulate the complete pathwey we perfom a correlation analysis using a weigthed expression score."
   ]
  },
  {
   "cell_type": "code",
   "execution_count": null,
   "metadata": {},
   "outputs": [],
   "source": [
    "dfPval"
   ]
  },
  {
   "cell_type": "code",
   "execution_count": null,
   "metadata": {},
   "outputs": [],
   "source": [
    "lGene = open(\"genesets/geneset_Antigen Processig and Presentation [ImmPort].txt\",\"r\").read().split()\n",
    "dfCor, dfPval, dfSetScore = mp.gene_set_correlation(dfExpr, lGene, GeneSetName = \"Antigen Processig and Presentation [ImmPort]\", \n",
    "                                                    lMirUser = [\"hsa-miR-181a-2-3p\",\"hsa-miR-125b-5p\",\"hsa-miR-130a-3p\"], n_core = 8)"
   ]
  },
  {
   "cell_type": "code",
   "execution_count": null,
   "metadata": {},
   "outputs": [],
   "source": [
    "dfCor"
   ]
  },
  {
   "cell_type": "markdown",
   "metadata": {},
   "source": [
    "gene_set_correlation return 3 elements: the pearson's coefficients, the p.value, and the calculate module score for each sample and microRNA."
   ]
  },
  {
   "cell_type": "code",
   "execution_count": null,
   "metadata": {},
   "outputs": [],
   "source": [
    "dfPval.columns = [\"P.val\"]"
   ]
  },
  {
   "cell_type": "code",
   "execution_count": null,
   "metadata": {},
   "outputs": [],
   "source": [
    "table = pd.concat([dfCor, dfPval], axis = 1)"
   ]
  },
  {
   "cell_type": "code",
   "execution_count": null,
   "metadata": {},
   "outputs": [],
   "source": [
    "table.sort_values(\"Antigen Processig and Presentation [ImmPort]\").head()"
   ]
  },
  {
   "cell_type": "markdown",
   "metadata": {},
   "source": [
    "## Use Case S3: Identifying a microRNA signature predictive for survival\n",
    "\n",
    "In the publication we used the TCGA-CRC dataset to predict microRNA related with the microsatelite inestability. In this case, we are going to use the TCGA-LUAD to predict the survival (death status) samples. This is only an example about how to use the function."
   ]
  },
  {
   "cell_type": "code",
   "execution_count": null,
   "metadata": {},
   "outputs": [],
   "source": [
    "from miopy.feature_selection import feature_selection"
   ]
  },
  {
   "cell_type": "code",
   "execution_count": null,
   "metadata": {},
   "outputs": [],
   "source": [
    "data = pd.concat([dfMir.transpose(),metadata.loc[:,\"event\"]], axis = 1)\n",
    "data = data.dropna()"
   ]
  },
  {
   "cell_type": "code",
   "execution_count": null,
   "metadata": {},
   "outputs": [],
   "source": [
    "top_feature, dAll, DictScore = feature_selection(data, k = 10, topk = 25, group = \"event\")"
   ]
  },
  {
   "cell_type": "markdown",
   "metadata": {},
   "source": [
    "Th feature selection return the top predictors most informative in separating the death status in the TCGA-LUAD patients. Now, we can use this predictors to training a model, and see how robust are these microRNAs."
   ]
  },
  {
   "cell_type": "code",
   "execution_count": null,
   "metadata": {},
   "outputs": [],
   "source": [
    "from miopy.classification import classification_cv"
   ]
  },
  {
   "cell_type": "code",
   "execution_count": null,
   "metadata": {},
   "outputs": [],
   "source": [
    "results = classification_cv(data, k = 5, name = \"Random Forest\", group = \"event\", lFeature = top_feature.index)\n"
   ]
  },
  {
   "cell_type": "markdown",
   "metadata": {},
   "source": [
    "## Use Case S4: MicroRNA target genes synthetic lethal to immune (therapy) essential genes\n",
    "\n",
    "In order to identify synthetic lethal partner genes in tumor cells we have taken advantage of previous efforts and used the ISLE algorithm for calculation (Lee et al., 2018), which is available within MIO. We were\n",
    "interested in identifying microRNAs targeting genes which are synthetic lethal to immune(therapy) essential genes. We used the option Target Prediction, miRNA Synthetic Lethal Prediction. \n",
    "\n",
    "In addition, MIOPY can perform an overrepresentation analysis for microRNAs based on the number of synthetic lethal target genes compared to all potential target genes."
   ]
  },
  {
   "cell_type": "code",
   "execution_count": null,
   "metadata": {},
   "outputs": [],
   "source": [
    "lGene = open(\"genesets/geneset_Immune essential genes [Patel].txt\",\"r\").read().split()"
   ]
  },
  {
   "cell_type": "code",
   "execution_count": null,
   "metadata": {},
   "outputs": [],
   "source": [
    "target, matrix, ora = mp.predict_lethality2(lQuery = lGene, lTools = None, method = \"or\", min_db = 25)"
   ]
  },
  {
   "cell_type": "code",
   "execution_count": null,
   "metadata": {},
   "outputs": [],
   "source": [
    "target.sort_values(\"Number Prediction Tools\", ascending=False).head()"
   ]
  },
  {
   "cell_type": "code",
   "execution_count": null,
   "metadata": {},
   "outputs": [],
   "source": [
    "ora.sort_values(\"FDR\").head()"
   ]
  },
  {
   "cell_type": "code",
   "execution_count": null,
   "metadata": {},
   "outputs": [],
   "source": []
  }
 ],
 "metadata": {
  "kernelspec": {
   "display_name": "Python 3 (ipykernel)",
   "language": "python",
   "name": "python3"
  },
  "language_info": {
   "codemirror_mode": {
    "name": "ipython",
    "version": 3
   },
   "file_extension": ".py",
   "mimetype": "text/x-python",
   "name": "python",
   "nbconvert_exporter": "python",
   "pygments_lexer": "ipython3",
   "version": "3.11.4"
  }
 },
 "nbformat": 4,
 "nbformat_minor": 4
}
